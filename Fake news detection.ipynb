{
 "cells": [
  {
   "cell_type": "code",
   "execution_count": 7,
   "id": "eaa7a0b2",
   "metadata": {},
   "outputs": [
    {
     "name": "stderr",
     "output_type": "stream",
     "text": [
      "[nltk_data] Downloading package stopwords to\n",
      "[nltk_data]     C:\\Users\\siva1\\AppData\\Roaming\\nltk_data...\n",
      "[nltk_data]   Unzipping corpora\\stopwords.zip.\n",
      "[nltk_data] Downloading package wordnet to\n",
      "[nltk_data]     C:\\Users\\siva1\\AppData\\Roaming\\nltk_data...\n"
     ]
    }
   ],
   "source": [
    "#import all necessary libraries \n",
    "import pandas as pd\n",
    "import numpy as np\n",
    "import re\n",
    "import nltk\n",
    "import sklearn\n",
    "from nltk.tokenize import word_tokenize\n",
    "from nltk import WordNetLemmatizer\n",
    "from nltk.corpus import stopwords\n",
    "nltk.download('stopwords')\n",
    "import string\n",
    "nltk.download('wordnet')\n",
    "from sklearn.model_selection import train_test_split"
   ]
  },
  {
   "cell_type": "code",
   "execution_count": 8,
   "id": "a91f084c",
   "metadata": {},
   "outputs": [],
   "source": [
    "from sklearn.feature_extraction.text import TfidfVectorizer"
   ]
  },
  {
   "cell_type": "code",
   "execution_count": 9,
   "id": "295aa9fa",
   "metadata": {},
   "outputs": [],
   "source": [
    "from sklearn.linear_model import LogisticRegression"
   ]
  },
  {
   "cell_type": "code",
   "execution_count": 10,
   "id": "2ad87d9e",
   "metadata": {},
   "outputs": [],
   "source": [
    "from sklearn.metrics import accuracy_score"
   ]
  },
  {
   "cell_type": "code",
   "execution_count": 11,
   "id": "2ade89fc",
   "metadata": {},
   "outputs": [],
   "source": [
    "from sklearn.metrics import classification_report"
   ]
  },
  {
   "cell_type": "code",
   "execution_count": 12,
   "id": "66f44c01",
   "metadata": {},
   "outputs": [],
   "source": [
    "from sklearn.tree import DecisionTreeClassifier"
   ]
  },
  {
   "cell_type": "code",
   "execution_count": 13,
   "id": "b92c4e38",
   "metadata": {},
   "outputs": [
    {
     "name": "stderr",
     "output_type": "stream",
     "text": [
      "[nltk_data] Downloading package omw-1.4 to\n",
      "[nltk_data]     C:\\Users\\siva1\\AppData\\Roaming\\nltk_data...\n"
     ]
    },
    {
     "data": {
      "text/plain": [
       "True"
      ]
     },
     "execution_count": 13,
     "metadata": {},
     "output_type": "execute_result"
    }
   ],
   "source": [
    "nltk.download('omw-1.4')"
   ]
  },
  {
   "cell_type": "code",
   "execution_count": 35,
   "id": "77523b54",
   "metadata": {},
   "outputs": [
    {
     "name": "stderr",
     "output_type": "stream",
     "text": [
      "[nltk_data] Downloading package punkt to\n",
      "[nltk_data]     C:\\Users\\siva1\\AppData\\Roaming\\nltk_data...\n",
      "[nltk_data]   Unzipping tokenizers\\punkt.zip.\n"
     ]
    },
    {
     "data": {
      "text/plain": [
       "True"
      ]
     },
     "execution_count": 35,
     "metadata": {},
     "output_type": "execute_result"
    }
   ],
   "source": [
    "lemmatizer = WordNetLemmatizer()\n",
    "stop_word = stopwords.words('english')\n",
    "nltk.download('punkt')"
   ]
  },
  {
   "cell_type": "code",
   "execution_count": 14,
   "id": "43be8b12",
   "metadata": {},
   "outputs": [],
   "source": [
    "#impot the data as df_ture and df_fake\n",
    "df_true = pd.read_csv(\"data science\\\\true.csv\")\n",
    "df_fake = pd.read_csv(\"data science\\\\Fake.csv.zip\")"
   ]
  },
  {
   "cell_type": "code",
   "execution_count": 15,
   "id": "5e191cfb",
   "metadata": {},
   "outputs": [
    {
     "data": {
      "text/html": [
       "<div>\n",
       "<style scoped>\n",
       "    .dataframe tbody tr th:only-of-type {\n",
       "        vertical-align: middle;\n",
       "    }\n",
       "\n",
       "    .dataframe tbody tr th {\n",
       "        vertical-align: top;\n",
       "    }\n",
       "\n",
       "    .dataframe thead th {\n",
       "        text-align: right;\n",
       "    }\n",
       "</style>\n",
       "<table border=\"1\" class=\"dataframe\">\n",
       "  <thead>\n",
       "    <tr style=\"text-align: right;\">\n",
       "      <th></th>\n",
       "      <th>title</th>\n",
       "      <th>text</th>\n",
       "      <th>subject</th>\n",
       "      <th>date</th>\n",
       "    </tr>\n",
       "  </thead>\n",
       "  <tbody>\n",
       "    <tr>\n",
       "      <th>0</th>\n",
       "      <td>As U.S. budget fight looms, Republicans flip t...</td>\n",
       "      <td>WASHINGTON (Reuters) - The head of a conservat...</td>\n",
       "      <td>politicsNews</td>\n",
       "      <td>December 31, 2017</td>\n",
       "    </tr>\n",
       "    <tr>\n",
       "      <th>1</th>\n",
       "      <td>U.S. military to accept transgender recruits o...</td>\n",
       "      <td>WASHINGTON (Reuters) - Transgender people will...</td>\n",
       "      <td>politicsNews</td>\n",
       "      <td>December 29, 2017</td>\n",
       "    </tr>\n",
       "    <tr>\n",
       "      <th>2</th>\n",
       "      <td>Senior U.S. Republican senator: 'Let Mr. Muell...</td>\n",
       "      <td>WASHINGTON (Reuters) - The special counsel inv...</td>\n",
       "      <td>politicsNews</td>\n",
       "      <td>December 31, 2017</td>\n",
       "    </tr>\n",
       "    <tr>\n",
       "      <th>3</th>\n",
       "      <td>FBI Russia probe helped by Australian diplomat...</td>\n",
       "      <td>WASHINGTON (Reuters) - Trump campaign adviser ...</td>\n",
       "      <td>politicsNews</td>\n",
       "      <td>December 30, 2017</td>\n",
       "    </tr>\n",
       "    <tr>\n",
       "      <th>4</th>\n",
       "      <td>Trump wants Postal Service to charge 'much mor...</td>\n",
       "      <td>SEATTLE/WASHINGTON (Reuters) - President Donal...</td>\n",
       "      <td>politicsNews</td>\n",
       "      <td>December 29, 2017</td>\n",
       "    </tr>\n",
       "    <tr>\n",
       "      <th>5</th>\n",
       "      <td>White House, Congress prepare for talks on spe...</td>\n",
       "      <td>WEST PALM BEACH, Fla./WASHINGTON (Reuters) - T...</td>\n",
       "      <td>politicsNews</td>\n",
       "      <td>December 29, 2017</td>\n",
       "    </tr>\n",
       "    <tr>\n",
       "      <th>6</th>\n",
       "      <td>Trump says Russia probe will be fair, but time...</td>\n",
       "      <td>WEST PALM BEACH, Fla (Reuters) - President Don...</td>\n",
       "      <td>politicsNews</td>\n",
       "      <td>December 29, 2017</td>\n",
       "    </tr>\n",
       "    <tr>\n",
       "      <th>7</th>\n",
       "      <td>Factbox: Trump on Twitter (Dec 29) - Approval ...</td>\n",
       "      <td>The following statements were posted to the ve...</td>\n",
       "      <td>politicsNews</td>\n",
       "      <td>December 29, 2017</td>\n",
       "    </tr>\n",
       "    <tr>\n",
       "      <th>8</th>\n",
       "      <td>Trump on Twitter (Dec 28) - Global Warming</td>\n",
       "      <td>The following statements were posted to the ve...</td>\n",
       "      <td>politicsNews</td>\n",
       "      <td>December 29, 2017</td>\n",
       "    </tr>\n",
       "    <tr>\n",
       "      <th>9</th>\n",
       "      <td>Alabama official to certify Senator-elect Jone...</td>\n",
       "      <td>WASHINGTON (Reuters) - Alabama Secretary of St...</td>\n",
       "      <td>politicsNews</td>\n",
       "      <td>December 28, 2017</td>\n",
       "    </tr>\n",
       "  </tbody>\n",
       "</table>\n",
       "</div>"
      ],
      "text/plain": [
       "                                               title   \n",
       "0  As U.S. budget fight looms, Republicans flip t...  \\\n",
       "1  U.S. military to accept transgender recruits o...   \n",
       "2  Senior U.S. Republican senator: 'Let Mr. Muell...   \n",
       "3  FBI Russia probe helped by Australian diplomat...   \n",
       "4  Trump wants Postal Service to charge 'much mor...   \n",
       "5  White House, Congress prepare for talks on spe...   \n",
       "6  Trump says Russia probe will be fair, but time...   \n",
       "7  Factbox: Trump on Twitter (Dec 29) - Approval ...   \n",
       "8         Trump on Twitter (Dec 28) - Global Warming   \n",
       "9  Alabama official to certify Senator-elect Jone...   \n",
       "\n",
       "                                                text       subject   \n",
       "0  WASHINGTON (Reuters) - The head of a conservat...  politicsNews  \\\n",
       "1  WASHINGTON (Reuters) - Transgender people will...  politicsNews   \n",
       "2  WASHINGTON (Reuters) - The special counsel inv...  politicsNews   \n",
       "3  WASHINGTON (Reuters) - Trump campaign adviser ...  politicsNews   \n",
       "4  SEATTLE/WASHINGTON (Reuters) - President Donal...  politicsNews   \n",
       "5  WEST PALM BEACH, Fla./WASHINGTON (Reuters) - T...  politicsNews   \n",
       "6  WEST PALM BEACH, Fla (Reuters) - President Don...  politicsNews   \n",
       "7  The following statements were posted to the ve...  politicsNews   \n",
       "8  The following statements were posted to the ve...  politicsNews   \n",
       "9  WASHINGTON (Reuters) - Alabama Secretary of St...  politicsNews   \n",
       "\n",
       "                 date  \n",
       "0  December 31, 2017   \n",
       "1  December 29, 2017   \n",
       "2  December 31, 2017   \n",
       "3  December 30, 2017   \n",
       "4  December 29, 2017   \n",
       "5  December 29, 2017   \n",
       "6  December 29, 2017   \n",
       "7  December 29, 2017   \n",
       "8  December 29, 2017   \n",
       "9  December 28, 2017   "
      ]
     },
     "execution_count": 15,
     "metadata": {},
     "output_type": "execute_result"
    }
   ],
   "source": [
    "df_true.head(10)"
   ]
  },
  {
   "cell_type": "code",
   "execution_count": 16,
   "id": "5fe7f8cb",
   "metadata": {},
   "outputs": [
    {
     "data": {
      "text/html": [
       "<div>\n",
       "<style scoped>\n",
       "    .dataframe tbody tr th:only-of-type {\n",
       "        vertical-align: middle;\n",
       "    }\n",
       "\n",
       "    .dataframe tbody tr th {\n",
       "        vertical-align: top;\n",
       "    }\n",
       "\n",
       "    .dataframe thead th {\n",
       "        text-align: right;\n",
       "    }\n",
       "</style>\n",
       "<table border=\"1\" class=\"dataframe\">\n",
       "  <thead>\n",
       "    <tr style=\"text-align: right;\">\n",
       "      <th></th>\n",
       "      <th>title</th>\n",
       "      <th>text</th>\n",
       "      <th>subject</th>\n",
       "      <th>date</th>\n",
       "    </tr>\n",
       "  </thead>\n",
       "  <tbody>\n",
       "    <tr>\n",
       "      <th>0</th>\n",
       "      <td>Donald Trump Sends Out Embarrassing New Year’...</td>\n",
       "      <td>Donald Trump just couldn t wish all Americans ...</td>\n",
       "      <td>News</td>\n",
       "      <td>December 31, 2017</td>\n",
       "    </tr>\n",
       "    <tr>\n",
       "      <th>1</th>\n",
       "      <td>Drunk Bragging Trump Staffer Started Russian ...</td>\n",
       "      <td>House Intelligence Committee Chairman Devin Nu...</td>\n",
       "      <td>News</td>\n",
       "      <td>December 31, 2017</td>\n",
       "    </tr>\n",
       "    <tr>\n",
       "      <th>2</th>\n",
       "      <td>Sheriff David Clarke Becomes An Internet Joke...</td>\n",
       "      <td>On Friday, it was revealed that former Milwauk...</td>\n",
       "      <td>News</td>\n",
       "      <td>December 30, 2017</td>\n",
       "    </tr>\n",
       "    <tr>\n",
       "      <th>3</th>\n",
       "      <td>Trump Is So Obsessed He Even Has Obama’s Name...</td>\n",
       "      <td>On Christmas day, Donald Trump announced that ...</td>\n",
       "      <td>News</td>\n",
       "      <td>December 29, 2017</td>\n",
       "    </tr>\n",
       "    <tr>\n",
       "      <th>4</th>\n",
       "      <td>Pope Francis Just Called Out Donald Trump Dur...</td>\n",
       "      <td>Pope Francis used his annual Christmas Day mes...</td>\n",
       "      <td>News</td>\n",
       "      <td>December 25, 2017</td>\n",
       "    </tr>\n",
       "    <tr>\n",
       "      <th>5</th>\n",
       "      <td>Racist Alabama Cops Brutalize Black Boy While...</td>\n",
       "      <td>The number of cases of cops brutalizing and ki...</td>\n",
       "      <td>News</td>\n",
       "      <td>December 25, 2017</td>\n",
       "    </tr>\n",
       "    <tr>\n",
       "      <th>6</th>\n",
       "      <td>Fresh Off The Golf Course, Trump Lashes Out A...</td>\n",
       "      <td>Donald Trump spent a good portion of his day a...</td>\n",
       "      <td>News</td>\n",
       "      <td>December 23, 2017</td>\n",
       "    </tr>\n",
       "    <tr>\n",
       "      <th>7</th>\n",
       "      <td>Trump Said Some INSANELY Racist Stuff Inside ...</td>\n",
       "      <td>In the wake of yet another court decision that...</td>\n",
       "      <td>News</td>\n",
       "      <td>December 23, 2017</td>\n",
       "    </tr>\n",
       "    <tr>\n",
       "      <th>8</th>\n",
       "      <td>Former CIA Director Slams Trump Over UN Bully...</td>\n",
       "      <td>Many people have raised the alarm regarding th...</td>\n",
       "      <td>News</td>\n",
       "      <td>December 22, 2017</td>\n",
       "    </tr>\n",
       "    <tr>\n",
       "      <th>9</th>\n",
       "      <td>WATCH: Brand-New Pro-Trump Ad Features So Muc...</td>\n",
       "      <td>Just when you might have thought we d get a br...</td>\n",
       "      <td>News</td>\n",
       "      <td>December 21, 2017</td>\n",
       "    </tr>\n",
       "  </tbody>\n",
       "</table>\n",
       "</div>"
      ],
      "text/plain": [
       "                                               title   \n",
       "0   Donald Trump Sends Out Embarrassing New Year’...  \\\n",
       "1   Drunk Bragging Trump Staffer Started Russian ...   \n",
       "2   Sheriff David Clarke Becomes An Internet Joke...   \n",
       "3   Trump Is So Obsessed He Even Has Obama’s Name...   \n",
       "4   Pope Francis Just Called Out Donald Trump Dur...   \n",
       "5   Racist Alabama Cops Brutalize Black Boy While...   \n",
       "6   Fresh Off The Golf Course, Trump Lashes Out A...   \n",
       "7   Trump Said Some INSANELY Racist Stuff Inside ...   \n",
       "8   Former CIA Director Slams Trump Over UN Bully...   \n",
       "9   WATCH: Brand-New Pro-Trump Ad Features So Muc...   \n",
       "\n",
       "                                                text subject   \n",
       "0  Donald Trump just couldn t wish all Americans ...    News  \\\n",
       "1  House Intelligence Committee Chairman Devin Nu...    News   \n",
       "2  On Friday, it was revealed that former Milwauk...    News   \n",
       "3  On Christmas day, Donald Trump announced that ...    News   \n",
       "4  Pope Francis used his annual Christmas Day mes...    News   \n",
       "5  The number of cases of cops brutalizing and ki...    News   \n",
       "6  Donald Trump spent a good portion of his day a...    News   \n",
       "7  In the wake of yet another court decision that...    News   \n",
       "8  Many people have raised the alarm regarding th...    News   \n",
       "9  Just when you might have thought we d get a br...    News   \n",
       "\n",
       "                date  \n",
       "0  December 31, 2017  \n",
       "1  December 31, 2017  \n",
       "2  December 30, 2017  \n",
       "3  December 29, 2017  \n",
       "4  December 25, 2017  \n",
       "5  December 25, 2017  \n",
       "6  December 23, 2017  \n",
       "7  December 23, 2017  \n",
       "8  December 22, 2017  \n",
       "9  December 21, 2017  "
      ]
     },
     "execution_count": 16,
     "metadata": {},
     "output_type": "execute_result"
    }
   ],
   "source": [
    "df_fake.head(10)"
   ]
  },
  {
   "cell_type": "code",
   "execution_count": 17,
   "id": "3d254b89",
   "metadata": {},
   "outputs": [],
   "source": [
    "#only considering text for predection so drop all columns\n",
    "df_true.drop(['title','subject','date'], axis=1, inplace=True)\n",
    "df_fake.drop(['title','subject','date'], axis=1, inplace=True)"
   ]
  },
  {
   "cell_type": "code",
   "execution_count": 18,
   "id": "ab1ac542",
   "metadata": {},
   "outputs": [],
   "source": [
    "# create new column assing 1 for ture news and 0 for fake\n",
    "df_true['class']=1\n",
    "df_fake['class']=0"
   ]
  },
  {
   "cell_type": "code",
   "execution_count": 19,
   "id": "05c58e82",
   "metadata": {
    "scrolled": true
   },
   "outputs": [
    {
     "data": {
      "text/html": [
       "<div>\n",
       "<style scoped>\n",
       "    .dataframe tbody tr th:only-of-type {\n",
       "        vertical-align: middle;\n",
       "    }\n",
       "\n",
       "    .dataframe tbody tr th {\n",
       "        vertical-align: top;\n",
       "    }\n",
       "\n",
       "    .dataframe thead th {\n",
       "        text-align: right;\n",
       "    }\n",
       "</style>\n",
       "<table border=\"1\" class=\"dataframe\">\n",
       "  <thead>\n",
       "    <tr style=\"text-align: right;\">\n",
       "      <th></th>\n",
       "      <th>text</th>\n",
       "      <th>class</th>\n",
       "    </tr>\n",
       "  </thead>\n",
       "  <tbody>\n",
       "    <tr>\n",
       "      <th>0</th>\n",
       "      <td>WASHINGTON (Reuters) - The head of a conservat...</td>\n",
       "      <td>1</td>\n",
       "    </tr>\n",
       "    <tr>\n",
       "      <th>1</th>\n",
       "      <td>WASHINGTON (Reuters) - Transgender people will...</td>\n",
       "      <td>1</td>\n",
       "    </tr>\n",
       "    <tr>\n",
       "      <th>2</th>\n",
       "      <td>WASHINGTON (Reuters) - The special counsel inv...</td>\n",
       "      <td>1</td>\n",
       "    </tr>\n",
       "    <tr>\n",
       "      <th>3</th>\n",
       "      <td>WASHINGTON (Reuters) - Trump campaign adviser ...</td>\n",
       "      <td>1</td>\n",
       "    </tr>\n",
       "    <tr>\n",
       "      <th>4</th>\n",
       "      <td>SEATTLE/WASHINGTON (Reuters) - President Donal...</td>\n",
       "      <td>1</td>\n",
       "    </tr>\n",
       "  </tbody>\n",
       "</table>\n",
       "</div>"
      ],
      "text/plain": [
       "                                                text  class\n",
       "0  WASHINGTON (Reuters) - The head of a conservat...      1\n",
       "1  WASHINGTON (Reuters) - Transgender people will...      1\n",
       "2  WASHINGTON (Reuters) - The special counsel inv...      1\n",
       "3  WASHINGTON (Reuters) - Trump campaign adviser ...      1\n",
       "4  SEATTLE/WASHINGTON (Reuters) - President Donal...      1"
      ]
     },
     "execution_count": 19,
     "metadata": {},
     "output_type": "execute_result"
    }
   ],
   "source": [
    "df_true.head(5)"
   ]
  },
  {
   "cell_type": "code",
   "execution_count": 20,
   "id": "504dd5be",
   "metadata": {},
   "outputs": [
    {
     "data": {
      "text/html": [
       "<div>\n",
       "<style scoped>\n",
       "    .dataframe tbody tr th:only-of-type {\n",
       "        vertical-align: middle;\n",
       "    }\n",
       "\n",
       "    .dataframe tbody tr th {\n",
       "        vertical-align: top;\n",
       "    }\n",
       "\n",
       "    .dataframe thead th {\n",
       "        text-align: right;\n",
       "    }\n",
       "</style>\n",
       "<table border=\"1\" class=\"dataframe\">\n",
       "  <thead>\n",
       "    <tr style=\"text-align: right;\">\n",
       "      <th></th>\n",
       "      <th>text</th>\n",
       "      <th>class</th>\n",
       "    </tr>\n",
       "  </thead>\n",
       "  <tbody>\n",
       "    <tr>\n",
       "      <th>0</th>\n",
       "      <td>Donald Trump just couldn t wish all Americans ...</td>\n",
       "      <td>0</td>\n",
       "    </tr>\n",
       "    <tr>\n",
       "      <th>1</th>\n",
       "      <td>House Intelligence Committee Chairman Devin Nu...</td>\n",
       "      <td>0</td>\n",
       "    </tr>\n",
       "    <tr>\n",
       "      <th>2</th>\n",
       "      <td>On Friday, it was revealed that former Milwauk...</td>\n",
       "      <td>0</td>\n",
       "    </tr>\n",
       "    <tr>\n",
       "      <th>3</th>\n",
       "      <td>On Christmas day, Donald Trump announced that ...</td>\n",
       "      <td>0</td>\n",
       "    </tr>\n",
       "    <tr>\n",
       "      <th>4</th>\n",
       "      <td>Pope Francis used his annual Christmas Day mes...</td>\n",
       "      <td>0</td>\n",
       "    </tr>\n",
       "  </tbody>\n",
       "</table>\n",
       "</div>"
      ],
      "text/plain": [
       "                                                text  class\n",
       "0  Donald Trump just couldn t wish all Americans ...      0\n",
       "1  House Intelligence Committee Chairman Devin Nu...      0\n",
       "2  On Friday, it was revealed that former Milwauk...      0\n",
       "3  On Christmas day, Donald Trump announced that ...      0\n",
       "4  Pope Francis used his annual Christmas Day mes...      0"
      ]
     },
     "execution_count": 20,
     "metadata": {},
     "output_type": "execute_result"
    }
   ],
   "source": [
    "df_fake.head(5)"
   ]
  },
  {
   "cell_type": "code",
   "execution_count": 21,
   "id": "72a4e27b",
   "metadata": {},
   "outputs": [
    {
     "data": {
      "text/plain": [
       "(21417, 2)"
      ]
     },
     "execution_count": 21,
     "metadata": {},
     "output_type": "execute_result"
    }
   ],
   "source": [
    "df_true.shape"
   ]
  },
  {
   "cell_type": "code",
   "execution_count": 22,
   "id": "6000d40d",
   "metadata": {},
   "outputs": [
    {
     "data": {
      "text/plain": [
       "(23481, 2)"
      ]
     },
     "execution_count": 22,
     "metadata": {},
     "output_type": "execute_result"
    }
   ],
   "source": [
    "df_fake.shape"
   ]
  },
  {
   "cell_type": "markdown",
   "id": "943a4d47",
   "metadata": {},
   "source": [
    "Data for manuval testing"
   ]
  },
  {
   "cell_type": "code",
   "execution_count": 23,
   "id": "6442323c",
   "metadata": {},
   "outputs": [],
   "source": [
    "# sapareting the the data for manuval testing\n",
    "df_true_manuvaltest = df_true.tail(20)\n",
    "for i in range(21395,213754,-1):\n",
    "    df_true.drop([i], axis=0, inplace=True)\n",
    "df_fake_manuvaltest = df_fake.tail(20)\n",
    "for i in range(23480,23459,-1):\n",
    "    df_fake.drop([i], axis=0, inplace=True)"
   ]
  },
  {
   "cell_type": "code",
   "execution_count": 24,
   "id": "efa14365",
   "metadata": {},
   "outputs": [],
   "source": [
    "# merge the manuval testing dataframs\n",
    "df_manuvaltest = pd.concat([df_true_manuvaltest,df_fake_manuvaltest])\n",
    "#df_manuvaltest.to_csv(\"D:\\\\data science\\\\manuval testind data for fake news detection.csv\")"
   ]
  },
  {
   "cell_type": "code",
   "execution_count": 25,
   "id": "f6774be9",
   "metadata": {},
   "outputs": [],
   "source": [
    "# merge the ture and fake data Farme\n",
    "df = pd.concat([df_true,df_fake])"
   ]
  },
  {
   "cell_type": "code",
   "execution_count": 26,
   "id": "5e1f08ef",
   "metadata": {},
   "outputs": [
    {
     "data": {
      "text/plain": [
       "(44877, 2)"
      ]
     },
     "execution_count": 26,
     "metadata": {},
     "output_type": "execute_result"
    }
   ],
   "source": [
    "df.shape"
   ]
  },
  {
   "cell_type": "markdown",
   "id": "679608b4",
   "metadata": {},
   "source": [
    "# Data processing"
   ]
  },
  {
   "cell_type": "code",
   "execution_count": 27,
   "id": "9774a0a8",
   "metadata": {},
   "outputs": [
    {
     "data": {
      "text/plain": [
       "0        False\n",
       "1        False\n",
       "2        False\n",
       "3        False\n",
       "4        False\n",
       "         ...  \n",
       "23455     True\n",
       "23456     True\n",
       "23457     True\n",
       "23458     True\n",
       "23459     True\n",
       "Length: 44877, dtype: bool"
      ]
     },
     "execution_count": 27,
     "metadata": {},
     "output_type": "execute_result"
    }
   ],
   "source": [
    "#Removing the duplicates\n",
    "df.duplicated()"
   ]
  },
  {
   "cell_type": "code",
   "execution_count": 28,
   "id": "58856011",
   "metadata": {},
   "outputs": [],
   "source": [
    "df.drop_duplicates('text',inplace=True)"
   ]
  },
  {
   "cell_type": "code",
   "execution_count": 29,
   "id": "98a4506c",
   "metadata": {},
   "outputs": [
    {
     "data": {
      "text/html": [
       "<div>\n",
       "<style scoped>\n",
       "    .dataframe tbody tr th:only-of-type {\n",
       "        vertical-align: middle;\n",
       "    }\n",
       "\n",
       "    .dataframe tbody tr th {\n",
       "        vertical-align: top;\n",
       "    }\n",
       "\n",
       "    .dataframe thead th {\n",
       "        text-align: right;\n",
       "    }\n",
       "</style>\n",
       "<table border=\"1\" class=\"dataframe\">\n",
       "  <thead>\n",
       "    <tr style=\"text-align: right;\">\n",
       "      <th></th>\n",
       "      <th>text</th>\n",
       "      <th>class</th>\n",
       "    </tr>\n",
       "  </thead>\n",
       "  <tbody>\n",
       "    <tr>\n",
       "      <th>0</th>\n",
       "      <td>WASHINGTON (Reuters) - The head of a conservat...</td>\n",
       "      <td>1</td>\n",
       "    </tr>\n",
       "    <tr>\n",
       "      <th>1</th>\n",
       "      <td>WASHINGTON (Reuters) - Transgender people will...</td>\n",
       "      <td>1</td>\n",
       "    </tr>\n",
       "    <tr>\n",
       "      <th>2</th>\n",
       "      <td>WASHINGTON (Reuters) - The special counsel inv...</td>\n",
       "      <td>1</td>\n",
       "    </tr>\n",
       "    <tr>\n",
       "      <th>3</th>\n",
       "      <td>WASHINGTON (Reuters) - Trump campaign adviser ...</td>\n",
       "      <td>1</td>\n",
       "    </tr>\n",
       "    <tr>\n",
       "      <th>4</th>\n",
       "      <td>SEATTLE/WASHINGTON (Reuters) - President Donal...</td>\n",
       "      <td>1</td>\n",
       "    </tr>\n",
       "    <tr>\n",
       "      <th>...</th>\n",
       "      <td>...</td>\n",
       "      <td>...</td>\n",
       "    </tr>\n",
       "    <tr>\n",
       "      <th>22698</th>\n",
       "      <td>21st Century Wire says All the world s a stage...</td>\n",
       "      <td>0</td>\n",
       "    </tr>\n",
       "    <tr>\n",
       "      <th>22699</th>\n",
       "      <td>Randy Johnson 21st Century WireThe majority ...</td>\n",
       "      <td>0</td>\n",
       "    </tr>\n",
       "    <tr>\n",
       "      <th>22700</th>\n",
       "      <td>Tune in to the Alternate Current Radio Network...</td>\n",
       "      <td>0</td>\n",
       "    </tr>\n",
       "    <tr>\n",
       "      <th>22701</th>\n",
       "      <td>21st Century Wire says A new front has just op...</td>\n",
       "      <td>0</td>\n",
       "    </tr>\n",
       "    <tr>\n",
       "      <th>22702</th>\n",
       "      <td>21st Century Wire says It s not that far away....</td>\n",
       "      <td>0</td>\n",
       "    </tr>\n",
       "  </tbody>\n",
       "</table>\n",
       "<p>38646 rows × 2 columns</p>\n",
       "</div>"
      ],
      "text/plain": [
       "                                                    text  class\n",
       "0      WASHINGTON (Reuters) - The head of a conservat...      1\n",
       "1      WASHINGTON (Reuters) - Transgender people will...      1\n",
       "2      WASHINGTON (Reuters) - The special counsel inv...      1\n",
       "3      WASHINGTON (Reuters) - Trump campaign adviser ...      1\n",
       "4      SEATTLE/WASHINGTON (Reuters) - President Donal...      1\n",
       "...                                                  ...    ...\n",
       "22698  21st Century Wire says All the world s a stage...      0\n",
       "22699    Randy Johnson 21st Century WireThe majority ...      0\n",
       "22700  Tune in to the Alternate Current Radio Network...      0\n",
       "22701  21st Century Wire says A new front has just op...      0\n",
       "22702  21st Century Wire says It s not that far away....      0\n",
       "\n",
       "[38646 rows x 2 columns]"
      ]
     },
     "execution_count": 29,
     "metadata": {},
     "output_type": "execute_result"
    }
   ],
   "source": [
    "df"
   ]
  },
  {
   "cell_type": "code",
   "execution_count": 30,
   "id": "f71a8b51",
   "metadata": {},
   "outputs": [
    {
     "data": {
      "text/plain": [
       "text     0\n",
       "class    0\n",
       "dtype: int64"
      ]
     },
     "execution_count": 30,
     "metadata": {},
     "output_type": "execute_result"
    }
   ],
   "source": [
    "df.isna().sum() # finding null data"
   ]
  },
  {
   "cell_type": "code",
   "execution_count": 31,
   "id": "2d746e7a",
   "metadata": {},
   "outputs": [],
   "source": [
    "#jumbling the data\n",
    "df = df.sample(frac=1)"
   ]
  },
  {
   "cell_type": "code",
   "execution_count": 32,
   "id": "30f286ba",
   "metadata": {},
   "outputs": [
    {
     "data": {
      "text/html": [
       "<div>\n",
       "<style scoped>\n",
       "    .dataframe tbody tr th:only-of-type {\n",
       "        vertical-align: middle;\n",
       "    }\n",
       "\n",
       "    .dataframe tbody tr th {\n",
       "        vertical-align: top;\n",
       "    }\n",
       "\n",
       "    .dataframe thead th {\n",
       "        text-align: right;\n",
       "    }\n",
       "</style>\n",
       "<table border=\"1\" class=\"dataframe\">\n",
       "  <thead>\n",
       "    <tr style=\"text-align: right;\">\n",
       "      <th></th>\n",
       "      <th>text</th>\n",
       "      <th>class</th>\n",
       "    </tr>\n",
       "  </thead>\n",
       "  <tbody>\n",
       "    <tr>\n",
       "      <th>13497</th>\n",
       "      <td>BANGKOK (Reuters) - An election could be a yea...</td>\n",
       "      <td>1</td>\n",
       "    </tr>\n",
       "    <tr>\n",
       "      <th>15566</th>\n",
       "      <td>LONDON (Reuters) - Neither the British Prime M...</td>\n",
       "      <td>1</td>\n",
       "    </tr>\n",
       "    <tr>\n",
       "      <th>18129</th>\n",
       "      <td>In our iconoclastic efforts to erase the past...</td>\n",
       "      <td>0</td>\n",
       "    </tr>\n",
       "    <tr>\n",
       "      <th>5200</th>\n",
       "      <td>Another day, another billionaire and/or Republ...</td>\n",
       "      <td>0</td>\n",
       "    </tr>\n",
       "    <tr>\n",
       "      <th>712</th>\n",
       "      <td>Donald Trump just beat Bill Clinton at somethi...</td>\n",
       "      <td>0</td>\n",
       "    </tr>\n",
       "    <tr>\n",
       "      <th>15410</th>\n",
       "      <td>BEIRUT (Reuters) - Lebanon s outgoing prime mi...</td>\n",
       "      <td>1</td>\n",
       "    </tr>\n",
       "    <tr>\n",
       "      <th>17313</th>\n",
       "      <td>WASHINGTON (Reuters) - U.S. Senator John McCai...</td>\n",
       "      <td>1</td>\n",
       "    </tr>\n",
       "    <tr>\n",
       "      <th>5985</th>\n",
       "      <td>WASHINGTON (Reuters) - President Donald Trump ...</td>\n",
       "      <td>1</td>\n",
       "    </tr>\n",
       "    <tr>\n",
       "      <th>22096</th>\n",
       "      <td>21st Century Wire says Last April, the UN gene...</td>\n",
       "      <td>0</td>\n",
       "    </tr>\n",
       "    <tr>\n",
       "      <th>16897</th>\n",
       "      <td>BELGRADE (Reuters) - Russia s elite aerobatic ...</td>\n",
       "      <td>1</td>\n",
       "    </tr>\n",
       "  </tbody>\n",
       "</table>\n",
       "</div>"
      ],
      "text/plain": [
       "                                                    text  class\n",
       "13497  BANGKOK (Reuters) - An election could be a yea...      1\n",
       "15566  LONDON (Reuters) - Neither the British Prime M...      1\n",
       "18129   In our iconoclastic efforts to erase the past...      0\n",
       "5200   Another day, another billionaire and/or Republ...      0\n",
       "712    Donald Trump just beat Bill Clinton at somethi...      0\n",
       "15410  BEIRUT (Reuters) - Lebanon s outgoing prime mi...      1\n",
       "17313  WASHINGTON (Reuters) - U.S. Senator John McCai...      1\n",
       "5985   WASHINGTON (Reuters) - President Donald Trump ...      1\n",
       "22096  21st Century Wire says Last April, the UN gene...      0\n",
       "16897  BELGRADE (Reuters) - Russia s elite aerobatic ...      1"
      ]
     },
     "execution_count": 32,
     "metadata": {},
     "output_type": "execute_result"
    }
   ],
   "source": [
    "df.head(10)"
   ]
  },
  {
   "cell_type": "markdown",
   "id": "e80e5295",
   "metadata": {},
   "source": [
    "# Cleaning data"
   ]
  },
  {
   "cell_type": "code",
   "execution_count": 36,
   "id": "d17fdb8a",
   "metadata": {},
   "outputs": [],
   "source": [
    "def word_drop(text):\n",
    "    filter_sentence =[]\n",
    "    text = text.lower()\n",
    "    text = re.sub(r'[^\\w\\s]', '', text)\n",
    "    text = re.sub('(https?:\\/\\/)?([\\da-z\\.-]+)\\.([a-z\\.]{2,6})([\\/\\w \\.-]*)', '', text)\n",
    "    text = word_tokenize(text)\n",
    "    text = [w for w in text if not w in stop_word] \n",
    "    text = [lemmatizer.lemmatize(word) for word in  text]\n",
    "    text = ' '.join(text)\n",
    "    return text\n",
    "    \n",
    "df['text'] = df['text'].apply(word_drop)"
   ]
  },
  {
   "cell_type": "code",
   "execution_count": 37,
   "id": "b8fbdd13",
   "metadata": {},
   "outputs": [
    {
     "data": {
      "text/html": [
       "<div>\n",
       "<style scoped>\n",
       "    .dataframe tbody tr th:only-of-type {\n",
       "        vertical-align: middle;\n",
       "    }\n",
       "\n",
       "    .dataframe tbody tr th {\n",
       "        vertical-align: top;\n",
       "    }\n",
       "\n",
       "    .dataframe thead th {\n",
       "        text-align: right;\n",
       "    }\n",
       "</style>\n",
       "<table border=\"1\" class=\"dataframe\">\n",
       "  <thead>\n",
       "    <tr style=\"text-align: right;\">\n",
       "      <th></th>\n",
       "      <th>text</th>\n",
       "      <th>class</th>\n",
       "    </tr>\n",
       "  </thead>\n",
       "  <tbody>\n",
       "    <tr>\n",
       "      <th>13497</th>\n",
       "      <td>bangkok reuters election could year away armyr...</td>\n",
       "      <td>1</td>\n",
       "    </tr>\n",
       "    <tr>\n",
       "      <th>15566</th>\n",
       "      <td>london reuters neither british prime minister ...</td>\n",
       "      <td>1</td>\n",
       "    </tr>\n",
       "    <tr>\n",
       "      <th>18129</th>\n",
       "      <td>iconoclastic effort erase past rob knowing men...</td>\n",
       "      <td>0</td>\n",
       "    </tr>\n",
       "    <tr>\n",
       "      <th>5200</th>\n",
       "      <td>another day another billionaire andor republic...</td>\n",
       "      <td>0</td>\n",
       "    </tr>\n",
       "    <tr>\n",
       "      <th>712</th>\n",
       "      <td>donald trump beat bill clinton something embar...</td>\n",
       "      <td>0</td>\n",
       "    </tr>\n",
       "  </tbody>\n",
       "</table>\n",
       "</div>"
      ],
      "text/plain": [
       "                                                    text  class\n",
       "13497  bangkok reuters election could year away armyr...      1\n",
       "15566  london reuters neither british prime minister ...      1\n",
       "18129  iconoclastic effort erase past rob knowing men...      0\n",
       "5200   another day another billionaire andor republic...      0\n",
       "712    donald trump beat bill clinton something embar...      0"
      ]
     },
     "execution_count": 37,
     "metadata": {},
     "output_type": "execute_result"
    }
   ],
   "source": [
    "df.head()"
   ]
  },
  {
   "cell_type": "code",
   "execution_count": 38,
   "id": "c018cc0f",
   "metadata": {},
   "outputs": [],
   "source": [
    "#divid the data independent and dependent variable\n",
    "xn = df['text']\n",
    "y = df['class'] "
   ]
  },
  {
   "cell_type": "code",
   "execution_count": 39,
   "id": "d6f1e1fe",
   "metadata": {},
   "outputs": [
    {
     "data": {
      "text/plain": [
       "(38646,)"
      ]
     },
     "execution_count": 39,
     "metadata": {},
     "output_type": "execute_result"
    }
   ],
   "source": [
    "xn.shape"
   ]
  },
  {
   "cell_type": "markdown",
   "id": "7c8d3a55",
   "metadata": {},
   "source": [
    "# Vectorization of the data"
   ]
  },
  {
   "cell_type": "code",
   "execution_count": 40,
   "id": "7fe8618c",
   "metadata": {
    "scrolled": true
   },
   "outputs": [],
   "source": [
    "vectorizer = TfidfVectorizer()\n",
    "x = vectorizer.fit_transform(xn)"
   ]
  },
  {
   "cell_type": "markdown",
   "id": "0fa231e3",
   "metadata": {},
   "source": [
    "# Spliting the data "
   ]
  },
  {
   "cell_type": "code",
   "execution_count": 41,
   "id": "37aea523",
   "metadata": {},
   "outputs": [],
   "source": [
    "x_train, x_test, y_train, y_test = train_test_split(x, y, test_size = .2, stratify = y, random_state = 2)"
   ]
  },
  {
   "cell_type": "markdown",
   "id": "b5c9935a",
   "metadata": {},
   "source": [
    "Regression Model"
   ]
  },
  {
   "cell_type": "code",
   "execution_count": 42,
   "id": "b182a921",
   "metadata": {},
   "outputs": [
    {
     "data": {
      "text/html": [
       "<style>#sk-container-id-1 {color: black;background-color: white;}#sk-container-id-1 pre{padding: 0;}#sk-container-id-1 div.sk-toggleable {background-color: white;}#sk-container-id-1 label.sk-toggleable__label {cursor: pointer;display: block;width: 100%;margin-bottom: 0;padding: 0.3em;box-sizing: border-box;text-align: center;}#sk-container-id-1 label.sk-toggleable__label-arrow:before {content: \"▸\";float: left;margin-right: 0.25em;color: #696969;}#sk-container-id-1 label.sk-toggleable__label-arrow:hover:before {color: black;}#sk-container-id-1 div.sk-estimator:hover label.sk-toggleable__label-arrow:before {color: black;}#sk-container-id-1 div.sk-toggleable__content {max-height: 0;max-width: 0;overflow: hidden;text-align: left;background-color: #f0f8ff;}#sk-container-id-1 div.sk-toggleable__content pre {margin: 0.2em;color: black;border-radius: 0.25em;background-color: #f0f8ff;}#sk-container-id-1 input.sk-toggleable__control:checked~div.sk-toggleable__content {max-height: 200px;max-width: 100%;overflow: auto;}#sk-container-id-1 input.sk-toggleable__control:checked~label.sk-toggleable__label-arrow:before {content: \"▾\";}#sk-container-id-1 div.sk-estimator input.sk-toggleable__control:checked~label.sk-toggleable__label {background-color: #d4ebff;}#sk-container-id-1 div.sk-label input.sk-toggleable__control:checked~label.sk-toggleable__label {background-color: #d4ebff;}#sk-container-id-1 input.sk-hidden--visually {border: 0;clip: rect(1px 1px 1px 1px);clip: rect(1px, 1px, 1px, 1px);height: 1px;margin: -1px;overflow: hidden;padding: 0;position: absolute;width: 1px;}#sk-container-id-1 div.sk-estimator {font-family: monospace;background-color: #f0f8ff;border: 1px dotted black;border-radius: 0.25em;box-sizing: border-box;margin-bottom: 0.5em;}#sk-container-id-1 div.sk-estimator:hover {background-color: #d4ebff;}#sk-container-id-1 div.sk-parallel-item::after {content: \"\";width: 100%;border-bottom: 1px solid gray;flex-grow: 1;}#sk-container-id-1 div.sk-label:hover label.sk-toggleable__label {background-color: #d4ebff;}#sk-container-id-1 div.sk-serial::before {content: \"\";position: absolute;border-left: 1px solid gray;box-sizing: border-box;top: 0;bottom: 0;left: 50%;z-index: 0;}#sk-container-id-1 div.sk-serial {display: flex;flex-direction: column;align-items: center;background-color: white;padding-right: 0.2em;padding-left: 0.2em;position: relative;}#sk-container-id-1 div.sk-item {position: relative;z-index: 1;}#sk-container-id-1 div.sk-parallel {display: flex;align-items: stretch;justify-content: center;background-color: white;position: relative;}#sk-container-id-1 div.sk-item::before, #sk-container-id-1 div.sk-parallel-item::before {content: \"\";position: absolute;border-left: 1px solid gray;box-sizing: border-box;top: 0;bottom: 0;left: 50%;z-index: -1;}#sk-container-id-1 div.sk-parallel-item {display: flex;flex-direction: column;z-index: 1;position: relative;background-color: white;}#sk-container-id-1 div.sk-parallel-item:first-child::after {align-self: flex-end;width: 50%;}#sk-container-id-1 div.sk-parallel-item:last-child::after {align-self: flex-start;width: 50%;}#sk-container-id-1 div.sk-parallel-item:only-child::after {width: 0;}#sk-container-id-1 div.sk-dashed-wrapped {border: 1px dashed gray;margin: 0 0.4em 0.5em 0.4em;box-sizing: border-box;padding-bottom: 0.4em;background-color: white;}#sk-container-id-1 div.sk-label label {font-family: monospace;font-weight: bold;display: inline-block;line-height: 1.2em;}#sk-container-id-1 div.sk-label-container {text-align: center;}#sk-container-id-1 div.sk-container {/* jupyter's `normalize.less` sets `[hidden] { display: none; }` but bootstrap.min.css set `[hidden] { display: none !important; }` so we also need the `!important` here to be able to override the default hidden behavior on the sphinx rendered scikit-learn.org. See: https://github.com/scikit-learn/scikit-learn/issues/21755 */display: inline-block !important;position: relative;}#sk-container-id-1 div.sk-text-repr-fallback {display: none;}</style><div id=\"sk-container-id-1\" class=\"sk-top-container\"><div class=\"sk-text-repr-fallback\"><pre>LogisticRegression()</pre><b>In a Jupyter environment, please rerun this cell to show the HTML representation or trust the notebook. <br />On GitHub, the HTML representation is unable to render, please try loading this page with nbviewer.org.</b></div><div class=\"sk-container\" hidden><div class=\"sk-item\"><div class=\"sk-estimator sk-toggleable\"><input class=\"sk-toggleable__control sk-hidden--visually\" id=\"sk-estimator-id-1\" type=\"checkbox\" checked><label for=\"sk-estimator-id-1\" class=\"sk-toggleable__label sk-toggleable__label-arrow\">LogisticRegression</label><div class=\"sk-toggleable__content\"><pre>LogisticRegression()</pre></div></div></div></div></div>"
      ],
      "text/plain": [
       "LogisticRegression()"
      ]
     },
     "execution_count": 42,
     "metadata": {},
     "output_type": "execute_result"
    }
   ],
   "source": [
    "LR_model = LogisticRegression()\n",
    "LR_model.fit(x_train, y_train)"
   ]
  },
  {
   "cell_type": "markdown",
   "id": "efd4a51b",
   "metadata": {},
   "source": [
    "# Accuracy  score"
   ]
  },
  {
   "cell_type": "code",
   "execution_count": 43,
   "id": "5ac4c991",
   "metadata": {},
   "outputs": [
    {
     "name": "stdout",
     "output_type": "stream",
     "text": [
      "train data pediction accuracy score:- 0.9912990037521024\n"
     ]
    }
   ],
   "source": [
    "# accuracy score of train data\n",
    "train_accuracy_score = LR_model.score(x_train, y_train)\n",
    "print('train data pediction accuracy score:-', train_accuracy_score)"
   ]
  },
  {
   "cell_type": "code",
   "execution_count": 44,
   "id": "359e7195",
   "metadata": {},
   "outputs": [
    {
     "name": "stdout",
     "output_type": "stream",
     "text": [
      "test data pediction accuracy score:- 0.9847347994825356\n"
     ]
    }
   ],
   "source": [
    "# accuracy score of test data\n",
    "test_accuracy = LR_model.score(x_test, y_test)\n",
    "print('test data pediction accuracy score:-', test_accuracy)"
   ]
  },
  {
   "cell_type": "code",
   "execution_count": 45,
   "id": "0c2bbb4d",
   "metadata": {},
   "outputs": [
    {
     "name": "stdout",
     "output_type": "stream",
     "text": [
      "              precision    recall  f1-score   support\n",
      "\n",
      "           0       0.98      0.99      0.98      3451\n",
      "           1       0.99      0.98      0.99      4279\n",
      "\n",
      "    accuracy                           0.98      7730\n",
      "   macro avg       0.98      0.99      0.98      7730\n",
      "weighted avg       0.98      0.98      0.98      7730\n",
      "\n"
     ]
    }
   ],
   "source": [
    "test_predic = LR_model.predict(x_test)\n",
    "print(classification_report(test_predic, y_test))"
   ]
  },
  {
   "cell_type": "markdown",
   "id": "9c78b133",
   "metadata": {},
   "source": [
    "# Classifier model"
   ]
  },
  {
   "cell_type": "code",
   "execution_count": 46,
   "id": "aca18781",
   "metadata": {},
   "outputs": [
    {
     "data": {
      "text/html": [
       "<style>#sk-container-id-2 {color: black;background-color: white;}#sk-container-id-2 pre{padding: 0;}#sk-container-id-2 div.sk-toggleable {background-color: white;}#sk-container-id-2 label.sk-toggleable__label {cursor: pointer;display: block;width: 100%;margin-bottom: 0;padding: 0.3em;box-sizing: border-box;text-align: center;}#sk-container-id-2 label.sk-toggleable__label-arrow:before {content: \"▸\";float: left;margin-right: 0.25em;color: #696969;}#sk-container-id-2 label.sk-toggleable__label-arrow:hover:before {color: black;}#sk-container-id-2 div.sk-estimator:hover label.sk-toggleable__label-arrow:before {color: black;}#sk-container-id-2 div.sk-toggleable__content {max-height: 0;max-width: 0;overflow: hidden;text-align: left;background-color: #f0f8ff;}#sk-container-id-2 div.sk-toggleable__content pre {margin: 0.2em;color: black;border-radius: 0.25em;background-color: #f0f8ff;}#sk-container-id-2 input.sk-toggleable__control:checked~div.sk-toggleable__content {max-height: 200px;max-width: 100%;overflow: auto;}#sk-container-id-2 input.sk-toggleable__control:checked~label.sk-toggleable__label-arrow:before {content: \"▾\";}#sk-container-id-2 div.sk-estimator input.sk-toggleable__control:checked~label.sk-toggleable__label {background-color: #d4ebff;}#sk-container-id-2 div.sk-label input.sk-toggleable__control:checked~label.sk-toggleable__label {background-color: #d4ebff;}#sk-container-id-2 input.sk-hidden--visually {border: 0;clip: rect(1px 1px 1px 1px);clip: rect(1px, 1px, 1px, 1px);height: 1px;margin: -1px;overflow: hidden;padding: 0;position: absolute;width: 1px;}#sk-container-id-2 div.sk-estimator {font-family: monospace;background-color: #f0f8ff;border: 1px dotted black;border-radius: 0.25em;box-sizing: border-box;margin-bottom: 0.5em;}#sk-container-id-2 div.sk-estimator:hover {background-color: #d4ebff;}#sk-container-id-2 div.sk-parallel-item::after {content: \"\";width: 100%;border-bottom: 1px solid gray;flex-grow: 1;}#sk-container-id-2 div.sk-label:hover label.sk-toggleable__label {background-color: #d4ebff;}#sk-container-id-2 div.sk-serial::before {content: \"\";position: absolute;border-left: 1px solid gray;box-sizing: border-box;top: 0;bottom: 0;left: 50%;z-index: 0;}#sk-container-id-2 div.sk-serial {display: flex;flex-direction: column;align-items: center;background-color: white;padding-right: 0.2em;padding-left: 0.2em;position: relative;}#sk-container-id-2 div.sk-item {position: relative;z-index: 1;}#sk-container-id-2 div.sk-parallel {display: flex;align-items: stretch;justify-content: center;background-color: white;position: relative;}#sk-container-id-2 div.sk-item::before, #sk-container-id-2 div.sk-parallel-item::before {content: \"\";position: absolute;border-left: 1px solid gray;box-sizing: border-box;top: 0;bottom: 0;left: 50%;z-index: -1;}#sk-container-id-2 div.sk-parallel-item {display: flex;flex-direction: column;z-index: 1;position: relative;background-color: white;}#sk-container-id-2 div.sk-parallel-item:first-child::after {align-self: flex-end;width: 50%;}#sk-container-id-2 div.sk-parallel-item:last-child::after {align-self: flex-start;width: 50%;}#sk-container-id-2 div.sk-parallel-item:only-child::after {width: 0;}#sk-container-id-2 div.sk-dashed-wrapped {border: 1px dashed gray;margin: 0 0.4em 0.5em 0.4em;box-sizing: border-box;padding-bottom: 0.4em;background-color: white;}#sk-container-id-2 div.sk-label label {font-family: monospace;font-weight: bold;display: inline-block;line-height: 1.2em;}#sk-container-id-2 div.sk-label-container {text-align: center;}#sk-container-id-2 div.sk-container {/* jupyter's `normalize.less` sets `[hidden] { display: none; }` but bootstrap.min.css set `[hidden] { display: none !important; }` so we also need the `!important` here to be able to override the default hidden behavior on the sphinx rendered scikit-learn.org. See: https://github.com/scikit-learn/scikit-learn/issues/21755 */display: inline-block !important;position: relative;}#sk-container-id-2 div.sk-text-repr-fallback {display: none;}</style><div id=\"sk-container-id-2\" class=\"sk-top-container\"><div class=\"sk-text-repr-fallback\"><pre>DecisionTreeClassifier()</pre><b>In a Jupyter environment, please rerun this cell to show the HTML representation or trust the notebook. <br />On GitHub, the HTML representation is unable to render, please try loading this page with nbviewer.org.</b></div><div class=\"sk-container\" hidden><div class=\"sk-item\"><div class=\"sk-estimator sk-toggleable\"><input class=\"sk-toggleable__control sk-hidden--visually\" id=\"sk-estimator-id-2\" type=\"checkbox\" checked><label for=\"sk-estimator-id-2\" class=\"sk-toggleable__label sk-toggleable__label-arrow\">DecisionTreeClassifier</label><div class=\"sk-toggleable__content\"><pre>DecisionTreeClassifier()</pre></div></div></div></div></div>"
      ],
      "text/plain": [
       "DecisionTreeClassifier()"
      ]
     },
     "execution_count": 46,
     "metadata": {},
     "output_type": "execute_result"
    }
   ],
   "source": [
    "DTC_model = DecisionTreeClassifier()\n",
    "DTC_model.fit(x_train, y_train)"
   ]
  },
  {
   "cell_type": "markdown",
   "id": "a33a6501",
   "metadata": {},
   "source": [
    "# Accuracy score"
   ]
  },
  {
   "cell_type": "code",
   "execution_count": 47,
   "id": "75fceb4c",
   "metadata": {},
   "outputs": [
    {
     "name": "stdout",
     "output_type": "stream",
     "text": [
      "trein data prediction accuracy:- 1.0\n"
     ]
    }
   ],
   "source": [
    "#accuracy score of train data\n",
    "train_accuracy = DTC_model.score(x_train, y_train)\n",
    "print('trein data prediction accuracy:-', train_accuracy)"
   ]
  },
  {
   "cell_type": "code",
   "execution_count": 48,
   "id": "88a35315",
   "metadata": {},
   "outputs": [
    {
     "name": "stdout",
     "output_type": "stream",
     "text": [
      "test data prediction accuracy:- 0.9940491591203104\n"
     ]
    }
   ],
   "source": [
    "# accuracy score of test data\n",
    "test_accuracy = DTC_model.score(x_test, y_test)\n",
    "print('test data prediction accuracy:-', test_accuracy)"
   ]
  },
  {
   "cell_type": "code",
   "execution_count": 49,
   "id": "8d7aba28",
   "metadata": {},
   "outputs": [
    {
     "name": "stdout",
     "output_type": "stream",
     "text": [
      "              precision    recall  f1-score   support\n",
      "\n",
      "           0       1.00      0.99      0.99      3491\n",
      "           1       0.99      1.00      0.99      4239\n",
      "\n",
      "    accuracy                           0.99      7730\n",
      "   macro avg       0.99      0.99      0.99      7730\n",
      "weighted avg       0.99      0.99      0.99      7730\n",
      "\n"
     ]
    }
   ],
   "source": [
    "test_predict = DTC_model.predict(x_test)\n",
    "print(classification_report( y_test, test_predict))"
   ]
  },
  {
   "cell_type": "code",
   "execution_count": 50,
   "id": "32b73024",
   "metadata": {},
   "outputs": [],
   "source": [
    "def output(n):\n",
    "    if n == 0:\n",
    "        return 'Fake news'\n",
    "    elif n == 1:\n",
    "        return \"Not a fake news\"\n",
    "def prediction(news):\n",
    "    testing_data = {'text':[news]}\n",
    "    testing_data = pd.DataFrame(testing_data)\n",
    "    testing_data['text'] = testing_data['text'].apply(word_drop)\n",
    "    df_test = testing_data['text']\n",
    "    df_test = vectorizer.transform(df_test)\n",
    "    predict_LR = LR_model.predict(df_test)\n",
    "    predict_DTC = DTC_model.predict(df_test) \n",
    "    return  print(\"\\n\\nLR_model predection: {} \\nDTC_model predection: {}\".format(output(predict_LR),output(predict_DTC)))\n",
    "        "
   ]
  },
  {
   "cell_type": "code",
   "execution_count": 51,
   "id": "d327fb78",
   "metadata": {},
   "outputs": [
    {
     "name": "stdout",
     "output_type": "stream",
     "text": [
      "Patrick Henningsen 21st Century Wire UPDATE: 1-30-2016 Last night, the standoff at Malheur National Wildlife Refuge outside Burns, Oregon took a rather ugly turn which resulted in one man shot dead and another wounded by federal agents.The latest incident took place as two vehicles carrying protesters, led by Ammon Bundy, were en route to a community meeting in the nearby town of John Day in Oregon.According to numerous mainstream media reports and local media outlet Oregon Live,  federal sources  are telling the media that only  3 shots were fired , but a new eye witness testimony by one of the vehicle s passengers tells a very different story.While the mainstream media is still referring to the event as  a shoot-out , according to this latest eye witness account at the scene   no shots were fired by vehicle passengers.According to eyewitness Victoria Sharp, 18 yrs old, from Kansas, who was a passenger in the same truck driven by Arizona rancher Robert  Lavoy  Finicum, along with Ryan Bundy, Ryan Payne and Shawna Cox   dozens of federal vehicles and countless agents were waiting for the group, pre-positioned at a point along the isolated rural Highway 395, before intercepting the group and detaining 8 persons, including brothers Ammon and Ryan Bundy, who were booked into Multnomah County Jail early this morning.Sharp confirmed that the passengers never drew weapons and attempted to get out of their vehicles before federal agents fired  at least 120 shots altogether  at the vehicle carrying her party.RELATED:  Federal Government Escalated the Violence in Oregon Federal agents fired their first shots at passenger and militia leader, Ryan Payne, as he attempted to make contact with the agents by sticking his head and hands out of the window, at which point Payne got back inside the vehicle.Payne then exited the truck and was detained before driver Finicum advanced the vehicle further down the road before sliding into a snow bank on the side of the road.A second vehicle, a Jeep with passengers including Ammon Bundy, had already been stopped by authorities, with its all passengers taken into custody with no one harmed.A third vehicle driving approximately one mile ahead at the front of the convoy, carrying Sharp s mother and young siblings, was allowed to pass through the police roadblocks without incident. Finicum then attempted to drive around the next federal road block, but lost control of the vehicle before careening into snow piled on the road s hard shoulder.After crashing into the snow bank on the side of the highway, the driver, 54 yr old Arizona resident, Lavoy Finicum (photo, above), then exited the vehicle, visibly upset and with his hands in the air, before being gunned down by federal agents. Finicum was walking with his hands in the air, daring federal agents,  Just shoot me! Just shoot me    at which point the agents shot him dead. The witness testimony indicates that his hands were still in the air.Numerous  red dots  from lasers could be seen pointed on the passengers by federal marksmen, in what was described by this witness as an  ambush  by federal authorities. Sharps said,  I had 20 lasers on me when I got out of the car. She also confirmed that Ryan Bundy was shot and wounded in the arm by federal agents was shot while still inside the truck.Federal forces then followed-up by firing CS tear gas rounds around the vehicle, apparently in an attempt to further disable the remaining passengers.At least 40 federal vehicles, as well as many armed federal agents including some seen emerging from the surrounding forest along the highway, should leave little doubt as to the scale and nature of the operation.Listen to Ms. Sharp s harrowing testimony here: IMPORTANT NOTE (UPDATE 1-30-16): According to this recent report by Pedro Quintana from Central Oregon local affiliate News Channel 21, Sheriff Palmer was not at the federal roadblock and had no prior knowledge of the FBI ambush of the Bundy convoy. According to the chat session relayed in Pedro Quintana s report, Palmer was asked in an online chat,  Did you witness Lavoy shooting, or no? , to which Palmer replies,  NO  The shooting from what I hear was close to 4 and I heard of it at about 5:45pm.  News 21continued: Palmer responded he had no knowledge of anything about the plans or who was coming to the public meeting. He went on to say that the  FBI and Oregon State Police know me, they shared nothing with me and they know I wouldn t have allowed it. Earlier mainstream media reports that Palmer was present at the FBI roadblock would lead Bundy supporters to believe that Palmer had betrayed the Bundys and Lavoy Finicum. One the main sources, if not the main source of the original Sheriff Palmer controversy appears to be none other than Oregon Live staff writer Les Zaitz who has slipped-in this key piece of line into his report which which says: They said they didn t know how long the roadblock would be place. Grant County Sheriff Glenn Palmer was there.  Not surprisingly, this has set-off a virtual backlash online against the Grant County Sheriff, as evidenced by the following screen shot of Google search link found here:  Is this a case of media dirty tricks by Oregon Live? Certainly, Oregon Live s coverage of Burns events has been skewed from the beginning, and have been running character assassination pieces against Malheur occupiers in a effort to discredit the protest. Sheriff Palmer is clearly on record as being sympathetic to the Hammond Ranch protest and had recently opened up a constructive dialogue with the Bundys and occupiers from Malheur Wildlife Refuge. If Pedro Quintana s News 21 report is indeed accurate, then one might conclude that Oregon Live put out a piece of disinformation, likely designed to further divide the protest movement and create dissension in militia and activist ranks. However, until Sheriff Glenn Palmer comes out and issues clear statement declaring where he was   and where he wasn t, then people will continue to speculate what really happened. (END OF UPDATE)Conflicting AccountsReporter Les Zaitz from Oregon Live, a key source of mainstream media information from the Refuge protest, did not give prominence to Victoria Sharp s account in his article, but instead chose to lead with and highlight the secondhand account of the other vehicle s passenger Mark McConnell who claimed that unarmed victim Lavoy Finicum  charged at law enforcement  before being shot. Zaitz s article even admits that McConnell s vehicle was at least 200 yards behind the truck driven by Finicum.Incredibly, Oregonian Zaitz appears to favor McConnell s account on the basis that his account has  matched accounts from law enforcement sources.  McConnell issued his version of events after being released from law enforcement custody, where he spoke for 2 hours with federal agents.Tabloid news site Raw Story also ran with a similar narrative with a deceptive headline that read  Eyewitnesses knock down conspiracy theories about LaVoy Finicum , referring to secondhand accounts by McConnell and colleague, Melvin Lee.As it turns out, Mark McConnell did not actually see the shooting, and instead had  pieced together  his account, as evidenced by his own statement later posted online: going off of what Shawna Cox and Ryan Payne were saying, which were in the vehicle, um, Visually, I seen the truck take off, you know, now any time someone takes off in a vehicle away from law enforcement after they exercise a stop, it s typically considered an act of aggression and foolish. Payne said while they were sitting there and they were clearing my vehicle that him and LeVoy had a heated discussion but he took off they had to chase him, and from what Shawna Cox was saying  from inside of his truck that when he exited the vehicle  he charged after law enforcement . What I do know to be true, from what Payne said and what Shawna said taken pieces here and pieces there and from what I witnessed, um, I didn t see the shooting, um, he was not on his knees, he was not, none of that non sense, that was a miscommunication on somebody else s part but he went after em, he charged em. Here, McConnell is, in effect, issuing a proxy statement on behalf of Victoria Sharp s fellow passengers, Shawn Cox and Ryan Payne. This is hardly admissible, as both Cox and Payne are currently in federal custody and are not able to verify the accuracy of McConnell reiteration. And yet, mainstream media outlets are propping-up McConnell s account, while minimizing Sharp s.After speculating about the shooting, McConnell then says,   I didn t see it, and I m not going to speculate on it. McConnell is said to have been driving in the rear vehicle with Ammon Bundy and his private security, Brian Cavalier.SEE ALSO: Activists or Terrorist? The Truth About the Oregon StandoffUPDATE 1-28-2016: On Wednesday evening, CNN International released a report based on an  anonymous government source  claiming that Finicum was killed by federal agents because he was  reaching towards his waistband.  The Washington Post then re-spun the story, and rather incredibly   is relying on the very same secondhand story presented by Mark McConnell, in a desperate attempt to prop-up the government s version of events: In the moments before he was shot by authorities Tuesday afternoon, Finicum led a high-speed getaway attempt. He then reached for his waistband, prompting authorities to open fire, according to a CNN report.The report, which cites anonymous law enforcement officials but has not been confirmed by The Washington Post, is corroborated by a statement from an occupier who said he was traveling with Finicum at the time of the traffic stop. The fact the media have chosen to label this incident as a  traffic stop  indicates an obvious agenda designed to minimize the obvious   that this was a pre-planned, elaborate ambush by the FBI and Oregon State Police.This same unnamed  source  cited by CNN is also told the network that the incident was indeed captured on video by the FBI, but that authorities  have not decided whether or not the release the video.  (see more breaking updates on this development below)See a full breakdown CNN, Washington Post and the government narrative here.Federal EscalationThis shocking turn of events comes just days after Oregon governor Kate Brown issued what some might consider to be a veiled threat to the protesters and militia, saying that the federal government  must move quickly to end the occupation and hold all of the wrongdoers accountable. Reports last week indicated that the governor had personally written the White House and President Obama, which specifically addressed Attorney General Loretta Lynch and FBI director James Comey, in which Brown expressed her outrage that Harney County and the state of Oregon was not being recognized for its  collaborative achievements , but rather for  outsiders seeking to exploit and manipulate a local matter for their own agenda. According to the FBI s press release, arrested individuals include:Ammon Edward Bundy, 40, of Emmett, Idaho Ryan C. Bundy, 43, of Bunkerville, Nevada Brian Cavalier, 44, of Bunkerville, Nevada Shawna Cox, 59, of Kanab, Utah Ryan Waylen Payne, 32, of Anaconda, Montana Joseph Donald O Shaughnessy, 45, of Cottonwood, ArizonaAfter the federal operation on Highway 395, in a separate incident back at the Wildlife Refuge, YouTube and internet radio personality, Peter Santilli, 50, of Cincinnati, Ohio, approached the venue and walked towards federal agents before being taken into custody.BREAKING: Booking photos of Ammon Bundy, 7 others after arrest near Burns. https://t.co/AcqRyP4pd5 #KOIN6News pic.twitter.com/un82wepf95  Brent Weisberg (@BrentKOIN) January 27, 2016Those still in detention are scheduled to be arraigned at 1:30 p.m. Tuesday in U.S. District Court in Portland.According to reports, FBI agents in Phoenix also  made a probable cause arrest of Jon Eric Ritzheimer, age 32, on a federal charge related to the armed occupation of the Malheur National Wildlife Refuge in Harney County, Oregon. Jon Ritzheimer, another controversial YouTube personality and former US Marine, appears to have left the Malheur Refuge right before the federal operation to apprehend the protesters, when he returned to his home in Peoria, Arizona.Back at the Refuge protest site, the FBI are said to be negotiating with remaining 8 to 10 occupiers inside, with reports that most women and minors have already left the site.Three weeks ago, Finicum, who become the protest s media spokesperson, made a prophetic statement on camera saying that,  There are things more important than your life, and freedom is one of them.  Watch:UPDATE 1-28-2016: Any public distrust or skepticism of the federal authorities would immediately be dispelled by speed release of all video footage (with dozens of agents and surveillance, there should have been more than one video feed taken, including body and gun sight cameras) of the event. Whether or not, and how fast this will happen remains to be seen.UPDATE 1-29-2016 at 01:30PM ET: Due to public pressure and intense speculation about the events of Tuesday evening, and also because of the YouTube recording of eye witness 18 yr old Victoria Sharp, the FBI has released the unedited aerial video footage from Tuesday evening s incident which took place along Highway 395 here. According to the official FBI statement:  We feel that it is necessary to show the whole thing unedited in the interest of transparency.  The FBI video entitled,  Complete, Unedited Video of Joint FBI and OSP Operation 01/26/2016 , does show the victim Lavoy Finicum exiting the truck awkwardly in at least two feet of snow, and he clearly does not  charge towards  the SWAT team, and his hands are clearly held high above his head as he exits his truck when confronted by a SWAT team, before being shot multiple times by marksmen and falling in the snow. Also, the scale and size of this operation is very evident by the footage, and the apprehension of the protesters was not the result of a mere  traffic stop  as erroneously characterized in multiple mainstream media reports. On its own, this FBI drone footage would appear to support previous government and media claims by CNN, Washington Post and others that the victim was indeed  reaching towards his waistband  which gave federal and state police justification to unleash deadly force. However, it is still not completely clear from this aerial footage whether or not Finicum was holstered (he is said to normally carry a gun on the right hip, but FBI are claiming he had a 9mm gun in his inside left breast pocket), but also whether or not he lowered his arms before, or after he was shot multiple times. For example, if Finicum had his hands in the air and was then was shot in the abdomen first, then any man s natural reaction would be to then lower his hand(s) and clutch the wound. Additionally, if any shots were fired, even in the vicinity, then confusion could have ensued which might have prompted Finicum to reach for his weapon. Either way, it is impossible to make any such a forensic determination without a corresponding audio track  which would help to determine if any shots were fired before Finicum s hand(s) could be seen lowering. WARNING: Images depict violence which some viewers may find disturbing. Watch here: READ MORE OREGON STANDOFF NEWS AT: 21st Century Wire Oregon Standoff Files\n"
     ]
    },
    {
     "name": "stdout",
     "output_type": "stream",
     "text": [
      "\n",
      "\n",
      "LR_model predection: Fake news \n",
      "DTC_model predection: Fake news\n"
     ]
    }
   ],
   "source": [
    "news = str(input())\n",
    "prediction(news)"
   ]
  },
  {
   "cell_type": "code",
   "execution_count": null,
   "id": "3685cbcc",
   "metadata": {},
   "outputs": [],
   "source": []
  }
 ],
 "metadata": {
  "kernelspec": {
   "display_name": "Python 3 (ipykernel)",
   "language": "python",
   "name": "python3"
  },
  "language_info": {
   "codemirror_mode": {
    "name": "ipython",
    "version": 3
   },
   "file_extension": ".py",
   "mimetype": "text/x-python",
   "name": "python",
   "nbconvert_exporter": "python",
   "pygments_lexer": "ipython3",
   "version": "3.10.11"
  }
 },
 "nbformat": 4,
 "nbformat_minor": 5
}
